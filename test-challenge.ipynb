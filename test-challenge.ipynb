{
 "cells": [
  {
   "cell_type": "code",
   "execution_count": 122,
   "metadata": {},
   "outputs": [],
   "source": [
    "import os\n",
    "\n",
    "import pandas as pd\n",
    "import numpy as np"
   ]
  },
  {
   "cell_type": "code",
   "execution_count": 145,
   "metadata": {},
   "outputs": [],
   "source": [
    "conv_location = lambda x: x.split(',')\n",
    "IN_ATLAS = 'In atlas 18.0'\n",
    "PLATE_ID_CUT = 300\n",
    "COLUMNS = [\n",
    "    'Antibody', 'IH state', 'Antibody state', IN_ATLAS,\n",
    "    'Ensembl id', 'Cell line', 'Plate id', 'Position',\n",
    "    'Main location', 'Other location']\n",
    "CONTAMINATED_CELLS = [\n",
    "    'U-251 MG', 'HeLa', 'PC-3', 'HEL', 'REH', 'A549', 'MCF-7',\n",
    "    'U-2 OS', 'HEK 293', 'CACO-2', 'RT4']"
   ]
  },
  {
   "cell_type": "code",
   "execution_count": 141,
   "metadata": {},
   "outputs": [],
   "source": [
    "data = pd.read_table(\n",
    "    'Confocal_data_finished_antibodies_2018-02-21.xls', encoding = 'ISO-8859-1', header=0,\n",
    "    usecols=COLUMNS,\n",
    "    converters={'Main location': conv_location, 'Other location': conv_location})"
   ]
  },
  {
   "cell_type": "code",
   "execution_count": 142,
   "metadata": {},
   "outputs": [],
   "source": [
    "def get_public(data, public=True):\n",
    "    \"\"\"Return public data.\"\"\"\n",
    "    if public:\n",
    "        public = 'Yes'\n",
    "    else:\n",
    "        public = 'No'\n",
    "    return data[data[IN_ATLAS] == public]\n",
    "\n",
    "def get_filter_mask(data, col_name, _filter):\n",
    "    \"\"\"Return boolean mask where values of col_name is in filter.\"\"\"\n",
    "    return data[col_name].isin(_filter)\n",
    "\n",
    "def get_cut_mask(data, cut):\n",
    "    \"\"\"Return a boolean mask of data size to cut the data in two pieces.\"\"\"\n",
    "    return np.random.rand(len(data)) < cut\n",
    "\n",
    "def get_cell_data(data, cell_lines):\n",
    "    \"\"\"Return data where cell line types match cell_lines.\"\"\"\n",
    "    return data[get_filter_mask(data, 'Cell line', cell_lines)]\n",
    "\n",
    "def get_well_paths(data):\n",
    "    \"\"\"Return a Pandas series with paths to images in data.\"\"\"\n",
    "    return (data['Plate id'].map(lambda x: os.path.join('/archive', str(x))) +\n",
    "            '/' + data['Plate id'].map(str) + '_' + data['Position'])\n",
    "\n",
    "def add_column(data, col_name, column):\n",
    "    \"\"\"Return data where a column has been added.\"\"\"\n",
    "    return data.assign(**{col_name: column})\n",
    "\n",
    "def pick_random_data(data, number_rows):\n",
    "    \"\"\"Return randomly selected specified number of rows of data.\"\"\"\n",
    "    return data.sample(number_rows)"
   ]
  },
  {
   "cell_type": "code",
   "execution_count": null,
   "metadata": {},
   "outputs": [],
   "source": []
  }
 ],
 "metadata": {
  "kernelspec": {
   "display_name": "Python 3",
   "language": "python",
   "name": "python3"
  },
  "language_info": {
   "codemirror_mode": {
    "name": "ipython",
    "version": 3
   },
   "file_extension": ".py",
   "mimetype": "text/x-python",
   "name": "python",
   "nbconvert_exporter": "python",
   "pygments_lexer": "ipython3",
   "version": "3.6.4"
  }
 },
 "nbformat": 4,
 "nbformat_minor": 2
}
